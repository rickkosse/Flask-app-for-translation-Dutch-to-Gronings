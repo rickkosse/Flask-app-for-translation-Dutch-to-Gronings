{
 "cells": [
  {
   "cell_type": "markdown",
   "metadata": {
    "collapsed": true
   },
   "source": [
    "# NMT-Keras tutorial"
   ]
  },
  {
   "cell_type": "markdown",
   "metadata": {},
   "source": [
    "In this module, we are going to create an encoder-decoder model with:\n",
    "* A bidirectional GRU encoder and a GRU decoder\n",
    "* An attention model \n",
    "* The previously generated word feeds back de decoder\n",
    "* MLPs for initializing the initial RNN state\n",
    "* Skip connections from inputs to outputs\n",
    "* Beam search.  "
   ]
  },
  {
   "cell_type": "markdown",
   "metadata": {},
   "source": [
    "As usual, first we import the necessary stuff."
   ]
  },
  {
   "cell_type": "code",
   "execution_count": 1,
   "metadata": {},
   "outputs": [
    {
     "name": "stderr",
     "output_type": "stream",
     "text": [
      "Using Theano backend.\n"
     ]
    },
    {
     "name": "stderr",
     "output_type": "stream",
     "text": [
      "Using cuDNN version 5105 on context None\nMapped name None to device cuda: GeForce GTX 1080 (0000:01:00.0)\n"
     ]
    },
    {
     "name": "stderr",
     "output_type": "stream",
     "text": [
      "17/07/2017_12:31:04:  Log file (/home/lvapeab/.picloud/cloud.log) opened\n"
     ]
    }
   ],
   "source": [
    "from keras.layers import *\n",
    "from keras.models import model_from_json, Model\n",
    "from keras.optimizers import Adam, RMSprop, Nadam, Adadelta, SGD, Adagrad, Adamax\n",
    "from keras.regularizers import l2\n",
    "from keras_wrapper.cnn_model import Model_Wrapper\n",
    "from keras_wrapper.extra.regularize import Regularize"
   ]
  },
  {
   "cell_type": "markdown",
   "metadata": {},
   "source": [
    "And define the dimesnions of our model. For instance, a word embedding size of 50 and 100 units in RNNs. The inputs/outpus are defined as in previous tutorials."
   ]
  },
  {
   "cell_type": "code",
   "execution_count": 2,
   "metadata": {},
   "outputs": [],
   "source": [
    "ids_inputs = ['source_text', 'state_below']\n",
    "ids_outputs = ['target_text']\n",
    "word_embedding_size = 50\n",
    "hidden_state_size = 100\n",
    "input_vocabulary_size=686  # Autoset in the library\n",
    "output_vocabulary_size=513  # Autoset in the library"
   ]
  },
  {
   "cell_type": "markdown",
   "metadata": {},
   "source": [
    "Now, let's define our encoder. First, we have to create an Input layer to connect the input text to our model.  Next, we'll apply a word embedding to the sequence of input indices. This word embedding will feed a Bidirectional GRU network, which will produce our sequence of annotations:"
   ]
  },
  {
   "cell_type": "code",
   "execution_count": 3,
   "metadata": {},
   "outputs": [],
   "source": [
    "# 1. Source text input\n",
    "src_text = Input(name=ids_inputs[0],\n",
    "                 batch_shape=tuple([None, None]), # Since the input sequences have variable-length, we do not retrict the Input shape\n",
    "                 dtype='int32')\n",
    "# 2. Encoder\n",
    "# 2.1. Source word embedding\n",
    "src_embedding = Embedding(input_vocabulary_size, word_embedding_size, \n",
    "                          name='source_word_embedding', mask_zero=True # Zeroes as mask\n",
    "                          )(src_text)\n",
    "# 2.2. BRNN encoder (GRU/LSTM)\n",
    "annotations = Bidirectional(GRU(hidden_state_size, \n",
    "                                return_sequences=True  # Return the full sequence\n",
    "                                ),\n",
    "                            name='bidirectional_encoder',\n",
    "                            merge_mode='concat')(src_embedding)"
   ]
  },
  {
   "cell_type": "markdown",
   "metadata": {},
   "source": [
    "Once we have built the encoder, let's build our decoder.  First, we have an additional input: The previously generated word (the so-called state_below). We introduce it by means of an Input layer and a (target language) word embedding:"
   ]
  },
  {
   "cell_type": "code",
   "execution_count": 4,
   "metadata": {},
   "outputs": [],
   "source": [
    "# 3. Decoder\n",
    "# 3.1.1. Previously generated words as inputs for training -> Teacher forcing\n",
    "next_words = Input(name=ids_inputs[1], batch_shape=tuple([None, None]), dtype='int32')\n",
    "# 3.1.2. Target word embedding\n",
    "state_below = Embedding(output_vocabulary_size, word_embedding_size,\n",
    "                        name='target_word_embedding', \n",
    "                        mask_zero=True)(next_words)"
   ]
  },
  {
   "cell_type": "markdown",
   "metadata": {},
   "source": [
    "The initial hidden state of the decoder's GRU is initialized by means of a MLP (in this case, single-layered) from the average of the annotations:"
   ]
  },
  {
   "cell_type": "code",
   "execution_count": 5,
   "metadata": {},
   "outputs": [],
   "source": [
    "ctx_mean = MaskedMean()(annotations)\n",
    "annotations = MaskLayer()(annotations)  # We may want the padded annotations\n",
    "\n",
    "initial_state = Dense(hidden_state_size, name='initial_state',\n",
    "                      activation='tanh')(ctx_mean)"
   ]
  },
  {
   "cell_type": "markdown",
   "metadata": {},
   "source": [
    "So, we have the input of our decoder:"
   ]
  },
  {
   "cell_type": "code",
   "execution_count": 6,
   "metadata": {},
   "outputs": [],
   "source": [
    "input_attentional_decoder = [state_below, annotations, initial_state]"
   ]
  },
  {
   "cell_type": "markdown",
   "metadata": {},
   "source": [
    "Note that, for a sample, the sequence of annotations and initial state is the same, independently of the decoding time-step. In order to avoid computation time, we build two models, one for training and the other one for sampling. They will share weights, but the sampling model will be made up of  two different models. One (model_init) will compute the sequence of annotations and initial_state. The other model (model_next) will compute a single recurrent step, given the sequence of annotations, the previous hidden state and the generated words up to this moment. \n",
    "\n",
    "Therefore, now we slightly change the form of declaring layers. We must share layers between the decoding models. \n",
    "\n",
    "So, let's start by building the attentional-conditional GRU:"
   ]
  },
  {
   "cell_type": "code",
   "execution_count": 7,
   "metadata": {},
   "outputs": [],
   "source": [
    "# Define the AttGRUCond function\n",
    "sharedAttGRUCond = AttGRUCond(hidden_state_size,\n",
    "                              return_sequences=True,\n",
    "                              return_extra_variables=True, # Return attended input and attenton weights \n",
    "                              return_states=True # Returns the sequence of hidden states (see discussion above)\n",
    "                              )\n",
    "[proj_h, x_att, alphas, h_state] = sharedAttGRUCond(input_attentional_decoder) # Apply shared_AttnGRUCond to our input"
   ]
  },
  {
   "cell_type": "markdown",
   "metadata": {},
   "source": [
    "Now, we set skip connections between input and output layer. Note that, since we have a temporal dimension because of the RNN decoder, we must apply the layers in a TimeDistributed way. Finally, we will merge all skip-connections and apply a 'tanh' no-linearlity:"
   ]
  },
  {
   "cell_type": "code",
   "execution_count": 10,
   "metadata": {},
   "outputs": [],
   "source": [
    "# Define layer function\n",
    "shared_FC_mlp = TimeDistributed(Dense(word_embedding_size, activation='linear',),\n",
    "                                name='logit_lstm')\n",
    "# Apply layer function\n",
    "out_layer_mlp = shared_FC_mlp(proj_h)\n",
    "\n",
    "# Define layer function\n",
    "shared_FC_ctx = TimeDistributed(Dense(word_embedding_size, activation='linear'),\n",
    "                                name='logit_ctx')\n",
    "# Apply layer function\n",
    "out_layer_ctx = shared_FC_ctx(x_att)\n",
    "shared_Lambda_Permute = PermuteGeneral((1, 0, 2))\n",
    "out_layer_ctx = shared_Lambda_Permute(out_layer_ctx)\n",
    "\n",
    "# Define layer function\n",
    "shared_FC_emb = TimeDistributed(Dense(word_embedding_size, activation='linear'),\n",
    "                                name='logit_emb')\n",
    "# Apply layer function\n",
    "out_layer_emb = shared_FC_emb(state_below)\n",
    "\n",
    "shared_additional_output_merge = Add(name='additional_input')\n",
    "additional_output = shared_additional_output_merge([out_layer_mlp, out_layer_ctx, out_layer_emb])\n",
    "shared_activation_tanh = Activation('tanh')\n",
    "out_layer = shared_activation_tanh(additional_output)"
   ]
  },
  {
   "cell_type": "markdown",
   "metadata": {},
   "source": [
    "Now, we'll' apply a deep output layer, with linear activation:"
   ]
  },
  {
   "cell_type": "code",
   "execution_count": 11,
   "metadata": {},
   "outputs": [],
   "source": [
    "shared_deep_out = TimeDistributed(Dense(word_embedding_size, activation='linear', name='maxout_layer'))\n",
    "out_layer = shared_deep_out(out_layer)"
   ]
  },
  {
   "cell_type": "markdown",
   "metadata": {},
   "source": [
    "Finally, we apply a softmax function for obtaining a probability distribution over the target vocabulary words at each timestep."
   ]
  },
  {
   "cell_type": "code",
   "execution_count": 14,
   "metadata": {},
   "outputs": [],
   "source": [
    "shared_FC_soft = TimeDistributed(Dense(output_vocabulary_size,\n",
    "                                               activation='softmax',\n",
    "                                               name='softmax_layer'),\n",
    "                                         name=ids_outputs[0])\n",
    "softout = shared_FC_soft(out_layer)\n",
    "model = Model(inputs=[src_text, next_words], outputs=softout)"
   ]
  },
  {
   "cell_type": "markdown",
   "metadata": {},
   "source": [
    "That's all! We built a NMT Model!\n",
    "Now, let's build the models required for sampling. Recall that we are building two models, one for encoding the inputs and the other one for advancing steps in the decoding stage."
   ]
  },
  {
   "cell_type": "markdown",
   "metadata": {},
   "source": [
    "Let's start with model_init. It will take the usual inputs (src_text and state_below) and will output: \n",
    "1)  The vector probabilities (for timestep 1)\n",
    "2) The sequence of annotations (from encoder)\n",
    "3) The current decoder's hidden state\n",
    "\n",
    "The only restriction here is that the first output must be the output layer (probabilities) of the model."
   ]
  },
  {
   "cell_type": "code",
   "execution_count": 15,
   "metadata": {},
   "outputs": [],
   "source": [
    "model_init = Model(inputs=[src_text, next_words], outputs=[softout, annotations, h_state])\n",
    "# Store inputs and outputs names for model_init\n",
    "ids_inputs_init = ids_inputs\n",
    "\n",
    "# first output must be the output probs.\n",
    "ids_outputs_init = ids_outputs + ['preprocessed_input', 'next_state']"
   ]
  },
  {
   "cell_type": "markdown",
   "metadata": {},
   "source": [
    "Next, we will be the model_next. It will have the following inputs:\n",
    "* Preprocessed input\n",
    "* Previously generated word\n",
    "* Previous hidden state\n",
    "\n",
    "And the following outputs:\n",
    "* Model probabilities\n",
    "* Current hidden state\n",
    "\n"
   ]
  },
  {
   "cell_type": "markdown",
   "metadata": {},
   "source": [
    "First, we define the inputs:"
   ]
  },
  {
   "cell_type": "code",
   "execution_count": 16,
   "metadata": {},
   "outputs": [],
   "source": [
    "preprocessed_size = hidden_state_size*2\n",
    "preprocessed_annotations = Input(name='preprocessed_input', shape=tuple([None, preprocessed_size]))\n",
    "prev_h_state = Input(name='prev_state', shape=tuple([hidden_state_size]))\n",
    "input_attentional_decoder = [state_below, preprocessed_annotations, prev_h_state]"
   ]
  },
  {
   "cell_type": "markdown",
   "metadata": {},
   "source": [
    "And now, we build the model, using the functions stored in the 'shared*'  variables declared before:"
   ]
  },
  {
   "cell_type": "code",
   "execution_count": 18,
   "metadata": {},
   "outputs": [],
   "source": [
    "# Apply decoder\n",
    "[proj_h, x_att, alphas, h_state] = sharedAttGRUCond(input_attentional_decoder)\n",
    "out_layer_mlp = shared_FC_mlp(proj_h)\n",
    "out_layer_ctx = shared_FC_ctx(x_att)\n",
    "out_layer_ctx = shared_Lambda_Permute(out_layer_ctx)\n",
    "out_layer_emb = shared_FC_emb(state_below)\n",
    "additional_output = shared_additional_output_merge([out_layer_mlp, out_layer_ctx, out_layer_emb])\n",
    "out_layer = shared_activation_tanh(additional_output)\n",
    "out_layer = shared_deep_out(out_layer)\n",
    "softout = shared_FC_soft(out_layer)\n",
    "model_next = Model(inputs=[next_words, preprocessed_annotations, prev_h_state],\n",
    "                   outputs=[softout, preprocessed_annotations, h_state])"
   ]
  },
  {
   "cell_type": "markdown",
   "metadata": {},
   "source": [
    "Finally, we store inputs/outputs for model_next. In addition, we create a couple of dictionaries, matching inputs/outputs from the different models (model_init->model_next, model_nex->model_next):\n",
    "\n"
   ]
  },
  {
   "cell_type": "code",
   "execution_count": 19,
   "metadata": {},
   "outputs": [],
   "source": [
    "# Store inputs and outputs names for model_next\n",
    "# first input must be previous word\n",
    "ids_inputs_next = [ids_inputs[1]] + ['preprocessed_input', 'prev_state']\n",
    "# first output must be the output probs.\n",
    "ids_outputs_next = ids_outputs + ['preprocessed_input', 'next_state']\n",
    "\n",
    "# Input -> Output matchings from model_init to model_next and from model_next to model_nextxt\n",
    "matchings_init_to_next = {'preprocessed_input': 'preprocessed_input', 'next_state': 'prev_state'}\n",
    "matchings_next_to_next = {'preprocessed_input': 'preprocessed_input', 'next_state': 'prev_state'}"
   ]
  },
  {
   "cell_type": "markdown",
   "metadata": {},
   "source": [
    "And that's all! For using this model together with the facilities provided by the staged_model_wrapper library, we should declare the model as a method of a Model_Wrapper class. A complete example of this can be found at `model_zoo.py`."
   ]
  }
 ],
 "metadata": {
  "kernelspec": {
   "display_name": "Python 2",
   "language": "python",
   "name": "python2"
  },
  "language_info": {
   "codemirror_mode": {
    "name": "ipython",
    "version": 2.0
   },
   "file_extension": ".py",
   "mimetype": "text/x-python",
   "name": "python",
   "nbconvert_exporter": "python",
   "pygments_lexer": "ipython2",
   "version": "2.7.6"
  }
 },
 "nbformat": 4,
 "nbformat_minor": 0
}